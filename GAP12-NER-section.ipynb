{
 "cells": [
  {
   "cell_type": "code",
   "execution_count": 172,
   "id": "7c84a063",
   "metadata": {},
   "outputs": [],
   "source": [
    "import requests\n",
    "import zipfile\n",
    "from pathlib import Path\n",
    "\n",
    "# Download and extract if needed\n",
    "stanford_zip = Path(\"stanford-encyclopedia.zip\")\n",
    "stanford_folder = Path(\"stanford-encyclopedia\")\n",
    "if not stanford_zip.exists():\n",
    "    zip_data = requests.get(\"https://github.com/MNoichl/data-driven-philosophy-GAP2025/raw/refs/heads/main/files/stanford-encyclopedia.zip\").content\n",
    "    with zipfile.ZipFile(zipfile.io.BytesIO(zip_data)) as zip_ref:\n",
    "        zip_ref.extractall(\".\")\n",
    "\n",
    "# Load data\n",
    "text_data = [open(f, encoding='utf-8').read() for f in stanford_folder.glob(\"*.md\")]\n",
    "title_data = [f.stem for f in stanford_folder.glob(\"*.md\")]\n",
    "# Extract year data from copyright strings in the text files\n",
    "import re\n",
    "\n",
    "year_data = []\n",
    "for text in text_data:\n",
    "    # Look for \"Copyright © YYYY\" pattern at the beginning of the text\n",
    "    match = re.search(r'Copyright © (\\d{4})', text)  \n",
    "    if match:\n",
    "        year_data.append(int(match.group(1)))\n",
    "    else:\n",
    "        year_data.append(None)  # If no copyright year found\n",
    "\n",
    "used_dataset = \"Stanford Encyclopedia\""
   ]
  },
  {
   "cell_type": "markdown",
   "id": "163e56db",
   "metadata": {},
   "source": [
    "# Named Entity Recognition (NER)"
   ]
  },
  {
   "cell_type": "markdown",
   "id": "89301eef",
   "metadata": {},
   "source": [
    "Named entity recognition is a branch of natural language processing (NLP). Within an NLP pipeline, it is a relatively late step:\n",
    "\n",
    "<center><img src='./files/NER_NLP_pipeline.png' width=700></center>\n",
    "\n",
    "This is because it needs to receive a tokenized text and, in some languages, it needs to understand a word's part-of-speech (POS) to perform well. To determine whether a particular part of a text is a name, our model relies on a tokenization (splitting) of the text and its tagging for a particular part of speech (noun, verb, etc.). \n",
    "\n",
    "*(Graphic from William Mattingly, CC-BY, 2022 Text Analysis Pedagogy Institute)*"
   ]
  },
  {
   "cell_type": "code",
   "execution_count": 173,
   "id": "2246e31e",
   "metadata": {},
   "outputs": [
    {
     "name": "stdout",
     "output_type": "stream",
     "text": [
      "Collecting en-core-web-sm==3.8.0\n",
      "  Downloading https://github.com/explosion/spacy-models/releases/download/en_core_web_sm-3.8.0/en_core_web_sm-3.8.0-py3-none-any.whl (12.8 MB)\n",
      "\u001b[2K     \u001b[90m━━━━━━━━━━━━━━━━━━━━━━━━━━━━━━━━━━━━━━━━\u001b[0m \u001b[32m12.8/12.8 MB\u001b[0m \u001b[31m3.3 MB/s\u001b[0m eta \u001b[36m0:00:00\u001b[0ma \u001b[36m0:00:01\u001b[0m\n",
      "\u001b[?25h\n",
      "\u001b[1m[\u001b[0m\u001b[34;49mnotice\u001b[0m\u001b[1;39;49m]\u001b[0m\u001b[39;49m A new release of pip is available: \u001b[0m\u001b[31;49m25.1.1\u001b[0m\u001b[39;49m -> \u001b[0m\u001b[32;49m25.2\u001b[0m\n",
      "\u001b[1m[\u001b[0m\u001b[34;49mnotice\u001b[0m\u001b[1;39;49m]\u001b[0m\u001b[39;49m To update, run: \u001b[0m\u001b[32;49mpip install --upgrade pip\u001b[0m\n",
      "\u001b[38;5;2m✔ Download and installation successful\u001b[0m\n",
      "You can now load the package via spacy.load('en_core_web_sm')\n"
     ]
    }
   ],
   "source": [
    "!python3 -m spacy download en_core_web_sm # for English NER"
   ]
  },
  {
   "cell_type": "code",
   "execution_count": 174,
   "id": "15493282",
   "metadata": {},
   "outputs": [],
   "source": [
    "import spacy"
   ]
  },
  {
   "cell_type": "code",
   "execution_count": 175,
   "id": "a974049b-5fe7-4cbf-a033-4762bd963831",
   "metadata": {},
   "outputs": [],
   "source": [
    "nlp = spacy.load(\"en_core_web_sm\")"
   ]
  },
  {
   "cell_type": "markdown",
   "id": "8a860910-2277-4243-9f2f-32538bbbb153",
   "metadata": {},
   "source": [
    "Tokenization distinguishes full stops that end sentences from those that occur in abbreviations and initials (like G. E. Moore) - simply splitting by `.` would not give the right result."
   ]
  },
  {
   "cell_type": "code",
   "execution_count": 176,
   "id": "7b4012a2-65de-4c82-83e1-a06cc33c7ad4",
   "metadata": {},
   "outputs": [],
   "source": [
    "text = \"G.E. Moore is known as a good writer. Perhaps he is also good at programming?\""
   ]
  },
  {
   "cell_type": "markdown",
   "id": "a675e804-b5fa-4eb1-b16f-7d3c78603c53",
   "metadata": {},
   "source": [
    "We can run the basic spacy pipeline on our text object like so:"
   ]
  },
  {
   "cell_type": "code",
   "execution_count": 177,
   "id": "b2612d21-320a-4ffe-9aec-640dcb4edef9",
   "metadata": {},
   "outputs": [],
   "source": [
    "doc = nlp(text)"
   ]
  },
  {
   "cell_type": "markdown",
   "id": "b61918c3-ef9d-4852-9d21-39bec2e4ff74",
   "metadata": {},
   "source": [
    "The resulting doc object is structured. We can inspect its sentences:"
   ]
  },
  {
   "cell_type": "code",
   "execution_count": 178,
   "id": "75980448-7337-41b2-82d3-8e285a070b6d",
   "metadata": {},
   "outputs": [
    {
     "data": {
      "text/plain": [
       "[G.E. Moore is known as a good writer.,\n",
       " Perhaps he is also good at programming?]"
      ]
     },
     "execution_count": 178,
     "metadata": {},
     "output_type": "execute_result"
    }
   ],
   "source": [
    "list(doc.sents)"
   ]
  },
  {
   "cell_type": "markdown",
   "id": "6b6aaeb5-c5af-495b-a327-2a7a2b56090d",
   "metadata": {},
   "source": [
    "The spacy nlp pipeline also extracts a list of entities. Each entity has a text attribube (from the text source) and a label attribute, which we can inspect:"
   ]
  },
  {
   "cell_type": "code",
   "execution_count": 179,
   "id": "9e6c18ea-3379-4c10-9c46-35080444023f",
   "metadata": {},
   "outputs": [
    {
     "data": {
      "text/plain": [
       "[('G.E. Moore', 'PERSON')]"
      ]
     },
     "execution_count": 179,
     "metadata": {},
     "output_type": "execute_result"
    }
   ],
   "source": [
    "[(ent.text, ent.label_) for ent in doc.ents]"
   ]
  },
  {
   "cell_type": "markdown",
   "id": "75405235-33d9-468c-839f-d61824be6aa8",
   "metadata": {},
   "source": [
    "This processing of the raw text into a doc object follows a number of steps that we can inspect (and adapt). "
   ]
  },
  {
   "cell_type": "code",
   "execution_count": 180,
   "id": "0b68a60c-b353-461e-91b4-62749c8bb58a",
   "metadata": {},
   "outputs": [
    {
     "data": {
      "text/plain": [
       "['tok2vec', 'tagger', 'parser', 'attribute_ruler', 'lemmatizer', 'ner']"
      ]
     },
     "execution_count": 180,
     "metadata": {},
     "output_type": "execute_result"
    }
   ],
   "source": [
    "nlp.pipe_names"
   ]
  },
  {
   "cell_type": "markdown",
   "id": "9f7e013e-38e1-47fb-914e-9392650d20b8",
   "metadata": {},
   "source": [
    "## Looking at the Stanford Encyclopedia"
   ]
  },
  {
   "cell_type": "markdown",
   "id": "507c0012-2858-4c35-95d5-fd12b09b3e1f",
   "metadata": {},
   "source": [
    "Instead of looking at a toy sentence, we can process articles from the Stanford Encyclopedia. Here for a single (arbitrary) article:"
   ]
  },
  {
   "cell_type": "code",
   "execution_count": 181,
   "id": "379dbec6-bbed-4929-8657-2119132e2da8",
   "metadata": {},
   "outputs": [],
   "source": [
    "doc = nlp(text_data[42])"
   ]
  },
  {
   "cell_type": "markdown",
   "id": "c76eed51-6505-4ec5-9bdb-bc73e71903ca",
   "metadata": {},
   "source": [
    "The NER will now try to detect (and distinguish) persons, organizations, etc. If we only look at the entities tagged as persons:"
   ]
  },
  {
   "cell_type": "code",
   "execution_count": 182,
   "id": "e96d09eb-6fa6-4b9c-b36e-27cb3f026d96",
   "metadata": {},
   "outputs": [
    {
     "data": {
      "text/plain": [
       "[(\"John Stuart Mill's\", 'PERSON'),\n",
       " ('Mill 1859/1975', 'PERSON'),\n",
       " ('Schneewind', 'PERSON'),\n",
       " ('Wolff', 'PERSON'),\n",
       " ('Kant', 'PERSON'),\n",
       " ('Crocker 1980', 'PERSON'),\n",
       " ('Feinberg', 'PERSON'),\n",
       " ('Dworkin 1988', 'PERSON'),\n",
       " ('Feinberg', 'PERSON'),\n",
       " ('Dworkin 1989', 'PERSON'),\n",
       " ('Arneson', 'PERSON'),\n",
       " ('Raz 1986', 'PERSON'),\n",
       " ('Berofsky 1995', 'PERSON'),\n",
       " ('Raz 1986', 'PERSON'),\n",
       " ('Berofsky', 'PERSON'),\n",
       " ('Berofsky 1995', 'PERSON'),\n",
       " ('Veltman', 'PERSON'),\n",
       " ('Friedman', 'PERSON'),\n",
       " ('Kant', 'PERSON'),\n",
       " ('Hill', 'PERSON')]"
      ]
     },
     "execution_count": 182,
     "metadata": {},
     "output_type": "execute_result"
    }
   ],
   "source": [
    "[(ent.text, ent.label_) for ent in doc.ents if ent.label_=='PERSON'][0:20]"
   ]
  },
  {
   "cell_type": "code",
   "execution_count": 183,
   "id": "2e84bf0e-2b8d-49c2-a4cd-df07aa6cd6bf",
   "metadata": {},
   "outputs": [
    {
     "name": "stdout",
     "output_type": "stream",
     "text": [
      "We find 79 person labelled entities\n"
     ]
    }
   ],
   "source": [
    "print(f'We find {len([ent for ent in doc.ents if ent.label_==\"PERSON\"])} person labelled entities')"
   ]
  },
  {
   "cell_type": "markdown",
   "id": "b1015937-415f-404c-84c0-85c8657ad348",
   "metadata": {},
   "source": [
    "We can summarize this with a Counter object:"
   ]
  },
  {
   "cell_type": "code",
   "execution_count": 184,
   "id": "0eab73ee-61c8-4604-b3bd-ef1508df1dc5",
   "metadata": {},
   "outputs": [
    {
     "data": {
      "text/plain": [
       "[('Kant', 9),\n",
       " ('Korsgaard', 4),\n",
       " ('Arneson', 3),\n",
       " ('Raz 1986', 3),\n",
       " ('Berofsky 1995', 3),\n",
       " ('Rawls', 3),\n",
       " ('Feinberg', 2),\n",
       " ('Benson', 2),\n",
       " ('Grovier 1993', 2),\n",
       " ('Taylor', 2)]"
      ]
     },
     "execution_count": 184,
     "metadata": {},
     "output_type": "execute_result"
    }
   ],
   "source": [
    "from collections import Counter\n",
    "count = Counter()\n",
    "count.update([ent.text for ent in doc.ents if ent.label_=='PERSON'])\n",
    "count.most_common(10)"
   ]
  },
  {
   "cell_type": "markdown",
   "id": "d3ccd3c1-b3e9-4c5c-862d-bfb4de966cdc",
   "metadata": {},
   "source": [
    "And clean some of the labels by removing the year-strings - this is also important to sum over variants."
   ]
  },
  {
   "cell_type": "code",
   "execution_count": 185,
   "id": "148247e1-16c2-4f25-a251-d689f38eb266",
   "metadata": {},
   "outputs": [
    {
     "data": {
      "text/plain": [
       "'Kants new add'"
      ]
     },
     "execution_count": 185,
     "metadata": {},
     "output_type": "execute_result"
    }
   ],
   "source": [
    "strip_years(\"Kant's new add\")"
   ]
  },
  {
   "cell_type": "code",
   "execution_count": 186,
   "id": "a1a21c16-027e-4784-b856-5c177816fafe",
   "metadata": {},
   "outputs": [],
   "source": [
    "def strip_years(text):\n",
    "    \"\"\"\n",
    "    Clean years and punctuation from labels.\n",
    "    \"\"\"\n",
    "    return re.sub(\"\\s?[0-9]|['|.)(]\",'', text)"
   ]
  },
  {
   "cell_type": "code",
   "execution_count": 187,
   "id": "c04e2ba2-e580-427d-a64b-6a393c132161",
   "metadata": {},
   "outputs": [
    {
     "data": {
      "text/plain": [
       "[('Kant', 9),\n",
       " ('Raz', 4),\n",
       " ('Berofsky', 4),\n",
       " ('Korsgaard', 4),\n",
       " ('Rawls', 4),\n",
       " ('Arneson', 3),\n",
       " ('Benson', 3),\n",
       " ('Feinberg', 2),\n",
       " ('Dworkin', 2),\n",
       " ('Grovier', 2)]"
      ]
     },
     "execution_count": 187,
     "metadata": {},
     "output_type": "execute_result"
    }
   ],
   "source": [
    "count = Counter()\n",
    "count.update([strip_years(ent.text) for ent in doc.ents if ent.label_=='PERSON'])\n",
    "count.most_common(10)"
   ]
  },
  {
   "cell_type": "markdown",
   "id": "7d64d097-9d4a-4acc-bcf5-fe723e0a82bf",
   "metadata": {},
   "source": [
    "But have all person names been understood correctly? let's look at the Organizations."
   ]
  },
  {
   "cell_type": "code",
   "execution_count": 188,
   "id": "cbab71f6-77ef-4c34-a0b9-ad3cb8587b5b",
   "metadata": {},
   "outputs": [
    {
     "data": {
      "text/plain": [
       "[('Stoljar', 5),\n",
       " ('Benson', 3),\n",
       " ('Kymlicka', 3),\n",
       " ('MacKenzie & Stoljar', 2),\n",
       " ('Christman', 2),\n",
       " ('Liberalism', 2),\n",
       " ('Cuypers', 1),\n",
       " ('MacCallum', 1),\n",
       " ('R Young', 1),\n",
       " ('Fisher & Ravizza', 1)]"
      ]
     },
     "execution_count": 188,
     "metadata": {},
     "output_type": "execute_result"
    }
   ],
   "source": [
    "count = Counter()\n",
    "count.update([strip_years(ent.text) for ent in doc.ents if ent.label_=='ORG'])\n",
    "count.most_common(10)"
   ]
  },
  {
   "cell_type": "markdown",
   "id": "f6edfd12-93a8-4c39-94e7-5c33ee7f5d53",
   "metadata": {},
   "source": [
    "A lot of these organization tags are actually referring to people - unsurprising, since many organizations are named after people. So we should expect some errors when trying to distinguish these automatically. \n",
    "\n",
    "In our specific case, we have background knowledge - we expect people to be mentioned much more than companies or organizations. And we know that many of these names are philosophers that should be tagged as persons. To take this into account, we can add an extra step in the NER pipeline."
   ]
  },
  {
   "cell_type": "markdown",
   "id": "42927440-0e30-4ea9-9064-f3db6615328c",
   "metadata": {},
   "source": [
    "## Adding an entity ruler"
   ]
  },
  {
   "cell_type": "markdown",
   "id": "c1413d73-48bc-46ee-ad12-056b8bcd9e73",
   "metadata": {},
   "source": [
    "We can add explicit rules for detecting entities with an 'entity ruler'. This acts as an additional step in the spaCy pipeline."
   ]
  },
  {
   "cell_type": "code",
   "execution_count": 189,
   "id": "61f88d26-c2cb-4eb6-826d-9fd857bc65ac",
   "metadata": {},
   "outputs": [],
   "source": [
    "names = ['Stoljar', 'Benson', 'Kymlicka'] # These can be many, feel free to add your own...\n",
    "patterns = [{\"label\":\"PERSON\", \"pattern\":name} for name in names]"
   ]
  },
  {
   "cell_type": "code",
   "execution_count": 190,
   "id": "09df17e2-4832-48ba-8f2b-3bb9f26c523e",
   "metadata": {},
   "outputs": [
    {
     "data": {
      "text/plain": [
       "['tok2vec', 'tagger', 'parser', 'attribute_ruler', 'lemmatizer', 'ner']"
      ]
     },
     "execution_count": 190,
     "metadata": {},
     "output_type": "execute_result"
    }
   ],
   "source": [
    "nlp.pipe_names"
   ]
  },
  {
   "cell_type": "code",
   "execution_count": 191,
   "id": "01ccbe9c-58fd-4137-82a5-a4136d3990a9",
   "metadata": {},
   "outputs": [],
   "source": [
    "nlp2 = spacy.load(\"en_core_web_sm\")"
   ]
  },
  {
   "cell_type": "code",
   "execution_count": 192,
   "id": "e9bdd6dc-55b9-44d8-b2da-09f74818384d",
   "metadata": {},
   "outputs": [],
   "source": [
    "entruler = spacy.blank('en') # Create a blank English model\n",
    "nlp_rules = nlp2.add_pipe(\"entity_ruler\", before='ner') # specify that the EntityRuler comes before built-in NER\n",
    "nlp_rules.add_patterns(patterns)"
   ]
  },
  {
   "cell_type": "code",
   "execution_count": 193,
   "id": "9bf18e78-e51f-4ad7-b508-cb918aaf2140",
   "metadata": {},
   "outputs": [
    {
     "data": {
      "text/plain": [
       "['tok2vec',\n",
       " 'tagger',\n",
       " 'parser',\n",
       " 'attribute_ruler',\n",
       " 'lemmatizer',\n",
       " 'entity_ruler',\n",
       " 'ner']"
      ]
     },
     "execution_count": 193,
     "metadata": {},
     "output_type": "execute_result"
    }
   ],
   "source": [
    "nlp2.pipe_names"
   ]
  },
  {
   "cell_type": "markdown",
   "id": "45164fb0-3032-4497-817d-2e33ba2961b0",
   "metadata": {},
   "source": [
    "The entity ruler now tags the patterns we have defined as persons, before we run the standard NER component. "
   ]
  },
  {
   "cell_type": "code",
   "execution_count": 194,
   "id": "b0fb2e05-5e0c-4955-bfa9-f037fa9595f6",
   "metadata": {},
   "outputs": [],
   "source": [
    "doc2 = nlp2(text_data[42])"
   ]
  },
  {
   "cell_type": "code",
   "execution_count": 195,
   "id": "f119bf0d-7c39-40d5-aa0c-2c313cc2dad5",
   "metadata": {},
   "outputs": [
    {
     "data": {
      "text/plain": [
       "[('Kant', 9),\n",
       " ('Stoljar', 8),\n",
       " ('Benson', 7),\n",
       " ('Kymlicka', 7),\n",
       " ('Raz', 4),\n",
       " ('Berofsky', 4),\n",
       " ('Korsgaard', 4),\n",
       " ('Rawls', 4),\n",
       " ('Arneson', 3),\n",
       " ('Feinberg', 2)]"
      ]
     },
     "execution_count": 195,
     "metadata": {},
     "output_type": "execute_result"
    }
   ],
   "source": [
    "count2 = Counter()\n",
    "count2.update([strip_years(ent.text) for ent in doc2.ents if ent.label_=='PERSON'])\n",
    "count2.most_common(10)"
   ]
  },
  {
   "cell_type": "markdown",
   "id": "8edb020d-4127-46f7-a546-3cacc202126b",
   "metadata": {},
   "source": [
    "Compare again with the top names without our entity ruler:"
   ]
  },
  {
   "cell_type": "code",
   "execution_count": 196,
   "id": "841285b0-bb74-4347-a574-f60535e4dae3",
   "metadata": {},
   "outputs": [
    {
     "data": {
      "text/plain": [
       "[('Kant', 9),\n",
       " ('Raz', 4),\n",
       " ('Berofsky', 4),\n",
       " ('Korsgaard', 4),\n",
       " ('Rawls', 4),\n",
       " ('Arneson', 3),\n",
       " ('Benson', 3),\n",
       " ('Feinberg', 2),\n",
       " ('Dworkin', 2),\n",
       " ('Grovier', 2)]"
      ]
     },
     "execution_count": 196,
     "metadata": {},
     "output_type": "execute_result"
    }
   ],
   "source": [
    "doc = nlp(text_data[42])\n",
    "count = Counter()\n",
    "count.update([strip_years(ent.text) for ent in doc.ents if ent.label_=='PERSON'])\n",
    "count.most_common(10)"
   ]
  },
  {
   "cell_type": "markdown",
   "id": "4bea8ab7-34c7-46dc-9355-a8393145be90",
   "metadata": {},
   "source": [
    "Now the explicitly mentioned names are taken into account. Of course, in the raw text there are many more phrases and words that we might want to include as mentions of e.g. Kant:"
   ]
  },
  {
   "cell_type": "code",
   "execution_count": 197,
   "id": "8f165c93-d56f-44f0-9688-2986062c21cc",
   "metadata": {},
   "outputs": [],
   "source": [
    "c = Counter()\n",
    "c.update([strip_years(word) for word in text_data[42].split(' ') if re.match('Kant', word)])"
   ]
  },
  {
   "cell_type": "code",
   "execution_count": 198,
   "id": "91d9f6e7-9412-4cfc-8040-cb4565e32cc3",
   "metadata": {},
   "outputs": [
    {
     "data": {
      "text/plain": [
       "Counter({'Kantian': 12,\n",
       "         'Kant': 5,\n",
       "         'Kant,': 3,\n",
       "         'Kants': 2,\n",
       "         'Kantians': 1,\n",
       "         'Kantianism': 1})"
      ]
     },
     "execution_count": 198,
     "metadata": {},
     "output_type": "execute_result"
    }
   ],
   "source": [
    "c"
   ]
  },
  {
   "cell_type": "markdown",
   "id": "ffceaaa0-f644-4165-80aa-62b79e34e618",
   "metadata": {},
   "source": [
    "Is 'Kant' mentioned when Korsgaard is described as a Kantian? Even simple counting needs to answer some conceptual questions."
   ]
  },
  {
   "cell_type": "markdown",
   "id": "fb556bee-77b3-426b-8e59-0a7f0caf68a0",
   "metadata": {},
   "source": [
    "## Running on the full corpus\n",
    "(not efficient, can take a while...) Here only taking the first 10"
   ]
  },
  {
   "cell_type": "code",
   "execution_count": 201,
   "id": "94a5a0c1-3ed5-477b-b721-ed5189234ad1",
   "metadata": {},
   "outputs": [
    {
     "name": "stderr",
     "output_type": "stream",
     "text": [
      "100%|█████████████████████████████████████████████████████████████████████| 10/10 [00:16<00:00,  1.63s/it]\n"
     ]
    }
   ],
   "source": [
    "from tqdm import tqdm\n",
    "docs = []\n",
    "for text in tqdm(text_data[0:10]):\n",
    "    docs.append(nlp2(text))"
   ]
  },
  {
   "cell_type": "code",
   "execution_count": 202,
   "id": "f9539416-ed39-4f46-9ccc-621ae7fbcbdd",
   "metadata": {},
   "outputs": [],
   "source": [
    "corpcount = Counter()\n",
    "for doc in docs:\n",
    "    corpcount.update([strip_years(ent.text) for ent in doc.ents if ent.label_=='PERSON'])"
   ]
  },
  {
   "cell_type": "code",
   "execution_count": 203,
   "id": "e40f1a6d-4e5d-4c57-bd8e-9164c212f812",
   "metadata": {},
   "outputs": [
    {
     "data": {
      "text/plain": [
       "[('Alexander', 175),\n",
       " ('Lucretius', 83),\n",
       " ('Reinach', 43),\n",
       " ('Plato', 39),\n",
       " ('Ibn Rushd', 26),\n",
       " ('Delmedigo', 21),\n",
       " ('Maimonides', 16),\n",
       " ('Alexander’s', 14),\n",
       " ('Mortensen', 10),\n",
       " ('Socrates', 9),\n",
       " ('Wodeham', 8),\n",
       " ('Ibn Rushds', 8),\n",
       " ('Ockham', 7),\n",
       " ('Aquinas', 6),\n",
       " ('Laird', 6),\n",
       " ('Crito', 6),\n",
       " ('Hohwy', 6),\n",
       " ('McKay et al', 6),\n",
       " ('Dunne', 5),\n",
       " ('Leff', 5),\n",
       " ('Aristotle', 5),\n",
       " ('John', 5),\n",
       " ('Libertarian Paternalism', 5),\n",
       " ('F H Bradley', 5),\n",
       " ('Alexanderii:', 5),\n",
       " ('Bortolotti', 5),\n",
       " ('Stephens', 5),\n",
       " ('Richard FitzRalph', 4),\n",
       " ('Wyclif', 4),\n",
       " ('Augustine', 4),\n",
       " ('God', 4),\n",
       " ('Kant', 4),\n",
       " ('Hegel', 4),\n",
       " ('Graham', 4),\n",
       " ('Currie', 4),\n",
       " ('Elijah Delmedigo', 4),\n",
       " ('Judaism', 4),\n",
       " ('Torah', 4),\n",
       " ('Weber', 4),\n",
       " ('Averroës', 3),\n",
       " ('Crathorn', 3),\n",
       " ('Memmius', 3),\n",
       " ('Empedocles', 3),\n",
       " ('Sunstein', 3),\n",
       " ('Samuel Alexander', 3),\n",
       " ('C Lloyd Morgan', 3),\n",
       " ('Emmet', 3),\n",
       " ('Jesus', 3),\n",
       " ('al', 3),\n",
       " ('Clouds', 3),\n",
       " ('Memorabilia', 3),\n",
       " ('Parmenides', 3),\n",
       " ('Xanthippe', 3),\n",
       " ('Kabbalah', 3),\n",
       " ('Brady', 3),\n",
       " ('Priest', 3),\n",
       " ('Armagh', 2),\n",
       " ('Fitzralph', 2),\n",
       " ('Robert Holcot', 2),\n",
       " ('Walsh', 2),\n",
       " ('Rodington', 2),\n",
       " ('Venus', 2),\n",
       " ('Darwin', 2),\n",
       " ('Smith', 2),\n",
       " ('Mill', 2),\n",
       " ('Nudging', 2),\n",
       " ('Adolf Reinach', 2),\n",
       " ('Frege', 2),\n",
       " ('John Laird', 2),\n",
       " ('John Anderson', 2),\n",
       " ('R G Collingwood', 2),\n",
       " ('A C Bradley', 2),\n",
       " ('Manchester', 2),\n",
       " ('C D Broad', 2),\n",
       " ('Jane Austen', 2),\n",
       " ('Broad', 2),\n",
       " ('Thomas', 2),\n",
       " ('Spinoza’s', 2),\n",
       " ('Oakeley', 2),\n",
       " ('Peter John Olivi', 2),\n",
       " ('John Duns Scotus', 2),\n",
       " ('Bonaventure', 2),\n",
       " ('Jansen', 2),\n",
       " ('Aristophanes’s Clouds', 2),\n",
       " ('Hellenica', 2),\n",
       " ('Gorgias', 2),\n",
       " ('Protagoras', 2),\n",
       " ('LU', 2),\n",
       " ('Schwitzgebel', 2),\n",
       " ('David', 2),\n",
       " ('Rosenberg', 2),\n",
       " ('McKay', 2),\n",
       " ('Jureidini', 2),\n",
       " ('Hirstein', 2),\n",
       " ('Ramachandran', 2),\n",
       " ('Levy', 2),\n",
       " ('Padua', 2),\n",
       " ('Isaac Albalag', 2),\n",
       " ('De Anima', 2),\n",
       " ('Kalman P Bland', 2),\n",
       " ('Jandun', 2),\n",
       " ('Guttman', 2),\n",
       " ('Bland', 2),\n",
       " ('Ein Sof', 2),\n",
       " ('Liar', 2),\n",
       " ('Norman Peter', 1),\n",
       " ('Elizabeth', 1),\n",
       " ('Benedict XII', 1),\n",
       " ('John XXII', 1),\n",
       " ('Richard Kilvington', 1),\n",
       " ('John Foxhalls', 1),\n",
       " ('Gordon Leff', 1),\n",
       " ('Lectura', 1),\n",
       " ('W Duba', 1),\n",
       " ('Oxford Lectura', 1),\n",
       " ('John of Reading', 1),\n",
       " ('Walter Chatton', 1),\n",
       " ('William Crathorn', 1),\n",
       " ('Dei', 1),\n",
       " ('Adam of Wodeham', 1),\n",
       " ('De Trinitate', 1),\n",
       " ('Holcot', 1),\n",
       " ('John Wyclifff', 1),\n",
       " ('Thomas Bradwardine', 1),\n",
       " ('Wyclifff', 1),\n",
       " ('Lectures', 1),\n",
       " ('Bradwardine', 1),\n",
       " ('Defensio Curatorum', 1),\n",
       " ('Trevisa', 1),\n",
       " ('De', 1),\n",
       " ('Francisco de Vitoria', 1),\n",
       " ('Saluatoris', 1),\n",
       " ('William', 1),\n",
       " ('Richard', 1),\n",
       " ('Adam de ', 1),\n",
       " ('Michael W Dunne', 1),\n",
       " ('Lucretius\\n  Titus Lucretius Carus', 1),\n",
       " ('St Jerome', 1),\n",
       " ('Xenophanes', 1),\n",
       " ('Homer', 1),\n",
       " ('Prometheus', 1),\n",
       " ('Zeus', 1),\n",
       " ('Warren', 1),\n",
       " ('Death', 1),\n",
       " ('Timaeus', 1),\n",
       " ('Euhemerus', 1),\n",
       " ('Hydra', 1),\n",
       " ('Poggio Bracciolini', 1),\n",
       " ('Pierre Gassendis', 1),\n",
       " ('Thomas Jefferson', 1),\n",
       " ('Bailey', 1),\n",
       " ('Pierre', 1),\n",
       " ('Montaigne', 1),\n",
       " ('Michel de   Copyright', 1),\n",
       " ('David Sedley', 1),\n",
       " ('Compare Mill’s', 1),\n",
       " ('Feinberg', 1),\n",
       " ('Cass Sunstein', 1),\n",
       " ('Richard Thaler', 1),\n",
       " ('Thaler', 1),\n",
       " ('Y Nothing', 1),\n",
       " ('Rebanato', 1),\n",
       " ('Lowenstein et al', 1),\n",
       " ('Wilkinson', 1),\n",
       " ('John Stuart', 1),\n",
       " ('Gerald Dworkin', 1),\n",
       " ('Willard', 1),\n",
       " ('–', 1),\n",
       " ('Johannes Daubert', 1),\n",
       " ('Alexander Pfänder', 1),\n",
       " ('Theodor Conrad', 1),\n",
       " ('Moritz Geiger', 1),\n",
       " ('Göttingen', 1),\n",
       " ('Herbert Spiegelberg', 1),\n",
       " ('Karol Wojtyła', 1),\n",
       " ('John Paul II', 1),\n",
       " ('Spiegelberg', 1),\n",
       " ('Sachverhalte', 1),\n",
       " ('Bestehen', 1),\n",
       " ('Brentano', 1),\n",
       " ('Austin', 1),\n",
       " ('Zaibert', 1),\n",
       " ('James DuBois', 1),\n",
       " ('Barry Smith', 1),\n",
       " ('Bertrand Russell', 1),\n",
       " ('the John Rylands Library', 1),\n",
       " ('Hobbes', 1),\n",
       " ('A N Whitehead', 1),\n",
       " ('Bernard Bosanquet', 1),\n",
       " ('Benjamin Jowett', 1),\n",
       " ('John Passmore', 1),\n",
       " ('McTaggart', 1),\n",
       " ('Litt', 1),\n",
       " ('Moliere', 1),\n",
       " ('Austen', 1),\n",
       " ('J H Muirhead', 1),\n",
       " ('Art', 1),\n",
       " ('Epstein', 1),\n",
       " ('Erravit', 1),\n",
       " ('Locke’s', 1),\n",
       " ('T H Green', 1),\n",
       " ('D G Ritchie', 1),\n",
       " ('William Wallace', 1),\n",
       " ('R L Nettleship', 1),\n",
       " ('J S Haldane', 1),\n",
       " ('the Universal Being', 1),\n",
       " ('M]ind', 1),\n",
       " ('Morgan’s Instinct', 1),\n",
       " ('F H Bradley’s', 1),\n",
       " ('Broad’s', 1),\n",
       " ('Minkowski', 1),\n",
       " ('Brettschneider', 1),\n",
       " ('Schaffer', 1),\n",
       " ('Calkins', 1),\n",
       " ('McLaughlin', 1),\n",
       " ('Wong', 1),\n",
       " ('McCarthy', 1),\n",
       " ('Stiernotte', 1),\n",
       " ('Clayton', 1),\n",
       " ('Harold Joachim', 1),\n",
       " ('Alexander’s “Art', 1),\n",
       " ('Herbert Spencer’s', 1),\n",
       " ('Fox', 1),\n",
       " ('Hooper', 1),\n",
       " ('Hilda Oakeley', 1),\n",
       " ('Anderson', 1),\n",
       " ('Bradley', 1),\n",
       " ('Francis Herbert', 1),\n",
       " ('Robin George', 1),\n",
       " ('Emily A E Thomas', 1),\n",
       " ('Thomas Aquinas', 1),\n",
       " ('Matthew', 1),\n",
       " ('Narbonne', 1),\n",
       " ('Peter Lombard’s Sentences', 1),\n",
       " ('Bk', 1),\n",
       " ('ed', 1),\n",
       " ('König-Pralong', 1),\n",
       " ('Pope Clement', 1),\n",
       " ('Toivanen', 1),\n",
       " ('Q', 1),\n",
       " ('William Ockham', 1),\n",
       " ('Following Augustine', 1),\n",
       " ('Robert Pasnau', 1),\n",
       " ('Juhana Toivanen', 1),\n",
       " ('Constantin Brancusi', 1),\n",
       " ('Buddha', 1),\n",
       " ('de Vogel', 1),\n",
       " ('Hans Erni', 1),\n",
       " ('Guthrie', 1),\n",
       " ('Nehamas', 1),\n",
       " ('Comedy', 1),\n",
       " ('Phaedrus', 1),\n",
       " ('Meno', 1),\n",
       " ('Eduard Zeller', 1),\n",
       " ('Heidegger', 1),\n",
       " ('Kierkegaard', 1),\n",
       " ('Hans-Georg Gadamer', 1),\n",
       " ('Gregory Vlastos', 1),\n",
       " ('Ion', 1),\n",
       " ('Hyland', 1),\n",
       " ('Vlastos’s', 1),\n",
       " ('Charmides', 1),\n",
       " ('Hippias Minor', 1),\n",
       " ('Bibliography', 1),\n",
       " ('John Cooper', 1),\n",
       " ('Anaxagoras’s', 1),\n",
       " ('Elea', 1),\n",
       " ('Zeno', 1),\n",
       " ('Theseus', 1),\n",
       " ('Minotaur', 1),\n",
       " ('Xenophon', 1),\n",
       " ('Phaedo', 1),\n",
       " ('Phaedoa', 1),\n",
       " ('Leonard Bernstein’s Serenade for', 1),\n",
       " ('String Orchestra', 1),\n",
       " ('Raphael’s  “', 1),\n",
       " ('David’s  “', 1),\n",
       " ('Madison', 1),\n",
       " ('Jefferson', 1),\n",
       " ('William Short', 1),\n",
       " ('Imitate Jesus', 1),\n",
       " ('Socrates—Benjamin Franklin', 1),\n",
       " ('deserved—Benjamin Franklin', 1),\n",
       " ('Benjamin Franklin', 1),\n",
       " ('Percy Bysshe Shelley', 1),\n",
       " ('John Keats', 1),\n",
       " ('George Gordon', 1),\n",
       " ('Arnold', 1),\n",
       " ('Remain', 1),\n",
       " ('Martin Luther King', 1),\n",
       " ('Nelson Mandela', 1),\n",
       " ('Constantin Brancusi’s', 1),\n",
       " ('Debra Nails', 1),\n",
       " ('Marshall', 1),\n",
       " ('Langdon', 1),\n",
       " ('Bayne and Pacherie', 1),\n",
       " ('Bayne', 1),\n",
       " ('Kircher', 1),\n",
       " ('Fulford', 1),\n",
       " ('Graham and', 1),\n",
       " ('Rhodes', 1),\n",
       " ('Gipps', 1),\n",
       " ('Bolton', 1),\n",
       " ('Johns', 1),\n",
       " ('van Os', 1),\n",
       " ('Counterexamples', 1),\n",
       " ('Freeman', 1),\n",
       " ('Johnstone et al', 1),\n",
       " ('Miller', 1),\n",
       " ('Fletcher', 1),\n",
       " ('Pacherie et al', 1),\n",
       " ('Coltheart et al', 1),\n",
       " ('Max Coltheart', 1),\n",
       " ('Coltheart', 1),\n",
       " ('Kihlstrom', 1),\n",
       " ('Brendan Maher', 1),\n",
       " ('Maher', 1),\n",
       " ('Blaney', 1),\n",
       " ('Lucchelli', 1),\n",
       " ('Woodward', 1),\n",
       " ('Kruglanski', 1),\n",
       " ('Egan', 1),\n",
       " ('Nisbett', 1),\n",
       " ('Donald Davidson’s', 1),\n",
       " ('Davidson', 1),\n",
       " ('Neil Levy', 1),\n",
       " ('anosognosia Levy', 1),\n",
       " ('Murphy', 1),\n",
       " ('Lisa Bortolotti', 1),\n",
       " ('Domenico Grimani', 1),\n",
       " ('Neo-Platonic', 1),\n",
       " ('Grimani', 1),\n",
       " ('Shaul Ashkenazi', 1),\n",
       " ('Shaul', 1),\n",
       " ('Marsilio Ficino', 1),\n",
       " ('Ficino', 1),\n",
       " ('Scriptures', 1),\n",
       " ('Sefer Behinat Hadat', 1),\n",
       " ('Haskalah', 1),\n",
       " ('JJ Ross', 1),\n",
       " ('David Ruderman', 1),\n",
       " ('Josep Puig Montada', 1),\n",
       " ('Ibn Sinnas', 1),\n",
       " ('Avicenna', 1),\n",
       " ('Ibn Sinna', 1),\n",
       " ('Soul', 1),\n",
       " ('Ibn Bajja', 1),\n",
       " ('haskalah', 1),\n",
       " ('Saadya Gaon', 1),\n",
       " ('Saadya', 1),\n",
       " ('Kitab Fasl Al-Maqal', 1),\n",
       " ('Julius Guttman', 1),\n",
       " ('Joseph Caspi', 1),\n",
       " ('Narboni', 1),\n",
       " ('Therefore Delmedigo', 1),\n",
       " ('David Messer Leon', 1),\n",
       " ('Tahafut Al-Tahafut', 1),\n",
       " ('Jewish Neo-Platonists', 1),\n",
       " ('Sefirot', 1),\n",
       " ('Jacob Ross', 1),\n",
       " ('Inconsistent Mathematics', 1),\n",
       " ('Russell', 1),\n",
       " ('Restall', 1),\n",
       " ('Gödel', 1),\n",
       " ('Norman', 1),\n",
       " ('Robert K Meyer', 1),\n",
       " ('Meyer', 1),\n",
       " ('Hilbert', 1),\n",
       " ('Graham Priest', 1),\n",
       " ('Tedder', 1),\n",
       " ('Da Costa', 1),\n",
       " ('x≥', 1),\n",
       " ('≤', 1),\n",
       " ('Hatcher', 1),\n",
       " ('Routley', 1),\n",
       " ('The Routley Star', 1),\n",
       " ('~A', 1),\n",
       " ('Routleys', 1),\n",
       " ('M C Escher’s', 1),\n",
       " ('Ascending', 1),\n",
       " ('Oscar Reutersvärd', 1),\n",
       " ('Escher', 1),\n",
       " ('Roger Penrose', 1),\n",
       " ('Francis', 1),\n",
       " ('Belvedere', 1),\n",
       " ('Reutersvärd', 1),\n",
       " ('Brown', 1),\n",
       " ('Chunk', 1),\n",
       " ('Benham', 1),\n",
       " ('Colyvan', 1),\n",
       " ('Berto', 1),\n",
       " ('Van Bendegem', 1),\n",
       " ('Hellman', 1),\n",
       " ('Chris Mortensen', 1)]"
      ]
     },
     "execution_count": 203,
     "metadata": {},
     "output_type": "execute_result"
    }
   ],
   "source": [
    "corpcount.most_common()"
   ]
  },
  {
   "cell_type": "code",
   "execution_count": null,
   "id": "5d11ccf7-0a23-4b65-a7f4-286583104645",
   "metadata": {},
   "outputs": [],
   "source": []
  }
 ],
 "metadata": {
  "kernelspec": {
   "display_name": "Python 3 (ipykernel)",
   "language": "python",
   "name": "python3"
  },
  "language_info": {
   "codemirror_mode": {
    "name": "ipython",
    "version": 3
   },
   "file_extension": ".py",
   "mimetype": "text/x-python",
   "name": "python",
   "nbconvert_exporter": "python",
   "pygments_lexer": "ipython3",
   "version": "3.11.0"
  }
 },
 "nbformat": 4,
 "nbformat_minor": 5
}
